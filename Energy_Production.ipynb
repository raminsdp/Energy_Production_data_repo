{
 "cells": [
  {
   "cell_type": "code",
   "execution_count": null,
   "id": "cc8540f1",
   "metadata": {},
   "outputs": [],
   "source": [
    "import pandas as pd\n",
    "import os\n",
    "import datetime as dt"
   ]
  },
  {
   "cell_type": "markdown",
   "id": "c0d22ebb",
   "metadata": {},
   "source": [
    "# Marktstammdatenregisters\n",
    "\n",
    "### Read data and combined"
   ]
  },
  {
   "cell_type": "code",
   "execution_count": null,
   "id": "6166f917",
   "metadata": {},
   "outputs": [],
   "source": [
    "def read_and_combine_files(start, end, folder_path):\n",
    "    # Liste zum Speichern der eingelesenen DataFrames\n",
    "    dfs = []\n",
    "\n",
    "    # Durchlaufe den Bereich der Nummern\n",
    "    for i in range(start, end + 1, 5000):\n",
    "        # Erstelle den Dateinamen basierend auf dem Nummernbereich\n",
    "        file_name = f\"Stromerzeuger_{i}_bis_{i + 4999}.csv\" \n",
    "\n",
    "        # Erstelle den vollständigen Pfad zur CSV-Datei\n",
    "        file_path = os.path.join(folder_path, file_name)\n",
    "\n",
    "        # Lese das CSV in einen DataFrame ein und füge ihn zur Liste hinzu\n",
    "        df = pd.read_csv(file_path, delimiter=';')\n",
    "        dfs.append(df)\n",
    "\n",
    "    # Lese die letzte Datei ein\n",
    "    last_file_path = os.path.join(folder_path, 'Stromerzeuger_465001_bis_465169.csv')\n",
    "    last_df = pd.read_csv(last_file_path, delimiter=';')\n",
    "\n",
    "    # Füge die letzte Datei zum DataFrame hinzu\n",
    "    dfs.append(last_df)\n",
    "\n",
    "    # Kombiniere alle DataFrames nach dem Index\n",
    "    combined_df = pd.concat(dfs, axis=0, ignore_index=True)\n",
    "    return combined_df\n",
    "\n",
    "folder_path = r'C:\\Users\\mohdr\\OneDrive\\Desktop\\BI specialist\\Power BI\\Portfolio Porject\\Energyspeisung'\n",
    "\n",
    "# Beispielaufruf der Funktion für den Bereich von 1 bis 189999\n",
    "combined_df = read_and_combine_files(1, 464999, folder_path)\n",
    "\n",
    "combined_df"
   ]
  },
  {
   "cell_type": "markdown",
   "id": "5fd0aa6f",
   "metadata": {},
   "source": [
    "\n",
    "# Applied mask, grouped by Inbetriebnahmedatum and sum of values"
   ]
  },
  {
   "cell_type": "code",
   "execution_count": null,
   "id": "906b7165",
   "metadata": {},
   "outputs": [],
   "source": [
    "mask_combined_df = (combined_df['Betriebs-Status'] == 'In Betrieb')  # Vergleichsoperator verwendet\n",
    "df_combined_filtered = combined_df.loc[mask_combined_df, :]\n",
    "\n",
    "# Display the filtered combined DataFrame\n",
    "\n",
    "df_combined = pd.DataFrame({'date': pd.date_range(start='1/1/2015', end='12/31/2023', freq='1d')})\n",
    "\n",
    "\n",
    "#df_combined = pd.DataFrame({'date': pd.date_range(start='1/1/2015', freq='1d', periods=365)})\n",
    "\n",
    "df = pd.DataFrame(df_combined_filtered)  #um nur den gefilterten DataFrame zu verwenden\n",
    "\n",
    "df_combined['Bruttoleistung'] = df['Bruttoleistung der Einheit'].str.replace(',', '.').astype(float)\n",
    "df_combined['Nettonennleistung'] = df['Nettonennleistung der Einheit'].str.replace(',', '.').astype(float)\n",
    "\n",
    "# Gruppiere nach Inbetriebnahmedatum und summiere die Werte\n",
    "df_combined = df_combined.groupby('date').agg({'Bruttoleistung': 'sum','Nettonennleistung': 'sum'}).reset_index()\n",
    "\n",
    "# Ergebnisse anzeigen\n",
    "df_combined\n"
   ]
  },
  {
   "cell_type": "markdown",
   "id": "67644932",
   "metadata": {},
   "source": [
    "# Bayern\n",
    "### Tatsächliche und prognostizierte Solarenergieeinspeisung in der Regelzone von TenneT Deutschland - Bayern"
   ]
  },
  {
   "cell_type": "code",
   "execution_count": null,
   "id": "1a6ff1c4",
   "metadata": {},
   "outputs": [],
   "source": [
    "# data source: https://netztransparenz.tennet.eu/de/strommarkt/transparenz/transparenz-deutschland/netzkennzahlen/tatsaechliche-und-prognostizierte-solarenergieeinspeisung/bayern/\n",
    "# filtered for 2023-01-01 to 2023-12-31\n",
    "\n",
    "df_en_raw = pd.read_table('solarEnergyFeedIn_BY_2015-01-01_2023-12-31.csv',sep=';',parse_dates=['Datum'],decimal=',')\n",
    "\n",
    "df_en = pd.DataFrame({'date': pd.date_range(start='1/1/2015', end='12/31/2023', freq='1d')})\n",
    "\n",
    "df_en.loc[:,'Prog_in_MW'] = pd.DataFrame(df_en_raw.groupby(['Datum'], as_index=False)['Prognostiziert in MW'].sum()).iloc[:,1]\n",
    "df_en.loc[:,'Act_in_MW'] = pd.DataFrame(df_en_raw.groupby(['Datum'], as_index=False)['Tatsaechlich in MW'].sum()).iloc[:,1]\n",
    "\n",
    "#df = df.merge(df_en,on='date')\n",
    "df_en"
   ]
  },
  {
   "cell_type": "code",
   "execution_count": null,
   "id": "defb83f4",
   "metadata": {},
   "outputs": [],
   "source": [
    "df_en_com = pd.merge(df_combined,df_en, on = 'date')\n",
    "df_en_com = pd.DataFrame(df_en_com)\n",
    "df_en_com"
   ]
  },
  {
   "cell_type": "markdown",
   "id": "14938c8a",
   "metadata": {},
   "source": [
    "# Stationsmessungen der Solarstrahlung\n",
    "\n",
    "tageswerte_ST_03668 und tageswerte_ST_05792"
   ]
  },
  {
   "cell_type": "code",
   "execution_count": null,
   "id": "6383c104",
   "metadata": {},
   "outputs": [],
   "source": [
    "df = pd.DataFrame({'date': pd.date_range(start='1/1/2015', end= '1/1/2023', freq='1d')})\n",
    "\n",
    "#'07370' Started 2021, '05404' Ended 2014 and '00867 Started 2021', therefore these stations are excluded\n",
    "\n",
    "stationsid = ['03668','05792', '05856', '05705', '02290']\n",
    "for id in stationsid:\n",
    "    stationsname = 'stationid_'+id+'.txt'\n",
    "    df_stat = pd.read_csv(stationsname,sep=';',parse_dates=['MESS_DATUM'],usecols=['MESS_DATUM','FD_STRAHL','FG_STRAHL','SD_STRAHL'])\n",
    "    mask = (df_stat.loc[:,'MESS_DATUM'] >= '2015-01-01') & (df_stat.loc[:,'MESS_DATUM'] <= '2023-12-31')\n",
    "    df_stat.columns =['date',id+'_FD_STRAHL',id+'_FG_STRAHL',id+'_SD_STRAHL']\n",
    "    df = df.merge(df_stat.loc[mask,:],on='date')\n",
    "\n",
    "df"
   ]
  },
  {
   "cell_type": "markdown",
   "id": "13360a25",
   "metadata": {},
   "source": [
    "# Final Combination DataFrame from 3 Tables"
   ]
  },
  {
   "cell_type": "code",
   "execution_count": null,
   "id": "b4fdd64c",
   "metadata": {
    "scrolled": true
   },
   "outputs": [],
   "source": [
    "df_final = df.merge(df_en_com, on = 'date')\n",
    "df_final"
   ]
  },
  {
   "cell_type": "code",
   "execution_count": null,
   "id": "4e23f5e1",
   "metadata": {},
   "outputs": [],
   "source": [
    "df_final.to_csv('df_final_2015_2023.csv')"
   ]
  }
 ],
 "metadata": {
  "kernelspec": {
   "display_name": "Python 3 (ipykernel)",
   "language": "python",
   "name": "python3"
  },
  "language_info": {
   "codemirror_mode": {
    "name": "ipython",
    "version": 3
   },
   "file_extension": ".py",
   "mimetype": "text/x-python",
   "name": "python",
   "nbconvert_exporter": "python",
   "pygments_lexer": "ipython3",
   "version": "3.11.5"
  }
 },
 "nbformat": 4,
 "nbformat_minor": 5
}
