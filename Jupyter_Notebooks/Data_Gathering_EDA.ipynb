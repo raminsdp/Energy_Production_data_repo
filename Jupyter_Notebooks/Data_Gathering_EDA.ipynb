{
 "cells": [
  {
   "cell_type": "code",
   "execution_count": null,
   "id": "58838621-dd07-4b55-8b43-945d9bd39925",
   "metadata": {},
   "outputs": [],
   "source": [
    "import pandas as pd\n",
    "import os\n",
    "import datetime as dt\n",
    "import numpy as np"
   ]
  },
  {
   "cell_type": "markdown",
   "id": "0297512b-cb51-4825-8b8f-e149a7f49283",
   "metadata": {},
   "source": [
    "## Dataset Description\r\n",
    "on\r\n",
    "col      umn name descript                       ion     uom type format\r\n",
    "STATION S_ID DWD Statio                                 n ID NUMBER\r\n",
    "MESS_  DATUM reference date for the measur             ement NUMBER YYYYMMDD\r\n",
    "      QN_592 the code of the quality level reflecs the \r\n",
    "quality control procedure applied or t e \r\n",
    "data\r\n",
    "VARCHAR2 umerical \r\n",
    "code\r\n",
    " ATMO_STRAHL longwave downwar            dradia  ion J\r\n",
    "/cm^2\r\n",
    "NUMBER 999999999   990\r\n",
    "FD_STRAHL daily sum of diffuse s   oar ra  iation J\r\n",
    "/cm^2\r\n",
    "NUMBER 999999   999990\r\n",
    "FG_STRAHL daily sum of solar i  noming  radiation J\r\n",
    "/cm^2\r\n",
    "NUMBER 999   999999990\r\n",
    "SD_STRAHL daily sum          of       sunshine duration h NUMBER 9990"
   ]
  },
  {
   "cell_type": "code",
   "execution_count": null,
   "id": "8ec513a4-82b6-4c77-89b3-d2360d710d99",
   "metadata": {},
   "outputs": [],
   "source": [
    "import requests, zipfile\n",
    "from io import BytesIO\n",
    "from io import StringIO\n",
    "\n",
    "# data source: https://opendata.dwd.de/climate_environment/CDC/observations_germany/climate/daily/solar/\n",
    "\n",
    "# overview of DWD stations\n",
    "url = 'https://opendata.dwd.de/climate_environment/CDC/observations_germany/climate/daily/solar/ST_Tageswerte_Beschreibung_Stationen.txt'\n",
    "\n",
    "df_dwd = pd.read_fwf(url,encoding = \"ISO-8859-1\",colspecs=[(0,5),(6,14),(15,23),(36,38),(43,51),(53,60),(61,84),(142,165)])[1:]\n",
    "df_dwd.columns = ['Stations_id', 'von_datum', 'bis_datum', 'Stationshoehe', 'geoBreite', 'geoLaenge', 'Stationsname', 'Bundesland']\n",
    "# getting id's for stations in Bavaria and with data within targeted timeframe\n",
    "mask = (df_dwd.loc[:,'Bundesland'] == 'Bayern') & (df_dwd.loc[:,'von_datum'] < '20150101') & (df_dwd.loc[:,'bis_datum'] >= '20231231')\n",
    "stations = list(df_dwd.loc[mask,'Stations_id'])\n",
    "\n",
    "# creating empty Dataframe\n",
    "df_stations = pd.DataFrame({'date': pd.date_range(start='1/1/2023', freq='1d', periods=365)})\n",
    "\n",
    "# data gathering\n",
    "for station in stations:\n",
    "    req = requests.get('https://opendata.dwd.de/climate_environment/CDC/observations_germany/climate/daily/solar/tageswerte_ST_'+station+'_row.zip')\n",
    "    zip = zipfile.ZipFile(BytesIO(req.content))  \n",
    "    f = zip.open(zip.namelist()[-1])\n",
    "    content = f.read()\n",
    "    s=str(content,'utf-8')\n",
    "    data = StringIO(s) \n",
    "    df_stat = pd.read_csv(data,sep=';',parse_dates=['MESS_DATUM'],usecols=['MESS_DATUM','FD_STRAHL','FG_STRAHL','SD_STRAHL'])\n",
    "    mask = (df_stat.loc[:,'MESS_DATUM'] >= '2023-01-01') & (df_stat.loc[:,'MESS_DATUM'] <= '2023-12-31')\n",
    "    df_stat.columns =['date',station+'_FD_STRAHL',station+'_FG_STRAHL',station+'_SD_STRAHL']\n",
    "    df_stations = df_stations.merge(df_stat.loc[mask,:],on='date')\n",
    "\n",
    "\n",
    "df_stations.head()"
   ]
  },
  {
   "cell_type": "code",
   "execution_count": null,
   "id": "2eb24792-2de9-4cf8-a55d-0391e608e485",
   "metadata": {},
   "outputs": [],
   "source": [
    "# data source: https://netztransparenz.tennet.eu/de/strommarkt/transparenz/transparenz-deutschland/netzkennzahlen/tatsaechliche-und-prognostizierte-solarenergieeinspeisung/bayern/\n",
    "# manually filtered for 2023-01-01 to 2023-12-31\n",
    "\n",
    "df_en_raw = pd.read_table('../data/solarEnergyFeedIn_BY_2023-01-01_2023-12-31.csv',sep=';',parse_dates=['Datum'],decimal=',')\n",
    "\n",
    "df_en = pd.DataFrame({'date': pd.date_range(start='1/1/2023', freq='1d', periods=365)})\n",
    "df_en.loc[:,'Prog_in_MW'] = pd.DataFrame(df_en_raw.groupby(['Datum'], as_index=False)['Prognostiziert in MW'].sum()).iloc[:,1]\n",
    "df_en.loc[:,'Act_in_MW'] = pd.DataFrame(df_en_raw.groupby(['Datum'], as_index=False)['Tatsaechlich in MW'].sum()).iloc[:,1]\n",
    "df_en.head()"
   ]
  },
  {
   "cell_type": "code",
   "execution_count": null,
   "id": "1ce3c468-f8ce-436f-a0de-d12a71f29000",
   "metadata": {},
   "outputs": [],
   "source": [
    "# data source: http://www.marktstammdatenregister.de/MaStR/Einheit/Einheiten/OeffentlicheEinheitenuebersicht?filter=Inbetriebnahmedatum%20der%20Einheit~lt~%2701.01.2024%27~and~Inbetriebnahmedatum%20der%20Einheit~gt~%2731.12.2014%27~and~Bundesland~eq~%271403%27~and~Energietr%C3%A4ger~eq~%272495%27\n",
    "# filters for Bavaria, solar energy and targeted timeframe already applied\n",
    "# 465169 data points in 94 csv files, manually downloaded on March 08, 2024 (daily changes to data occur)\n",
    "\n",
    "def read_and_combine_files(start, end, folder_path):\n",
    "    # list for caching extracted data\n",
    "    dfs = []\n",
    "\n",
    "    # going through downloaded files\n",
    "    for i in range(start, end + 1, 5000):\n",
    "        # Erstelle den Dateinamen basierend auf dem Nummernbereich\n",
    "        file_name = f\"Stromerzeuger_{i}_bis_{i + 4999}.csv\" \n",
    "\n",
    "        # Erstelle den vollständigen Pfad zur CSV-Datei\n",
    "        file_path = os.path.join(folder_path, file_name)\n",
    "\n",
    "        # Lese das CSV in einen DataFrame ein und füge ihn zur Liste hinzu\n",
    "        df = pd.read_csv(file_path, delimiter=';')\n",
    "        dfs.append(df)\n",
    "\n",
    "    # Lese die letzte Datei ein\n",
    "    last_file_path = os.path.join(folder_path, 'Stromerzeuger_465001_bis_465169.csv')\n",
    "    last_df = pd.read_csv(last_file_path, delimiter=';')\n",
    "\n",
    "    # Füge die letzte Datei zum DataFrame hinzu\n",
    "    dfs.append(last_df)\n",
    "\n",
    "    # Kombiniere alle DataFrames nach dem Index\n",
    "    combined_df = pd.concat(dfs, axis=0, ignore_index=True)\n",
    "    return combined_df\n",
    "\n",
    "folder_path = r'../data/'\n",
    "\n",
    "combined_df = read_and_combine_files(1, 464999, folder_path)\n",
    "\n",
    "# creating empty Dataframe\n",
    "df_modules = pd.DataFrame({'date': pd.date_range(start='1/1/2015', end='12/31/2023', freq='1d')})\n",
    "\n",
    "# Nur die Zeilen filtern, die den 'Betriebs-Status' 'In Betrieb' haben\n",
    "mask_combined_df = (combined_df['Betriebs-Status'] == 'In Betrieb')\n",
    "df_combined_filtered = combined_df.loc[mask_combined_df, :].copy()  # Kopie erstellen\n",
    "\n",
    "# 'Inbetriebnahmedatum der Einheit' in Datumstyp konvertieren\n",
    "df_combined_filtered['Inbetriebnahmedatum der Einheit'] = pd.to_datetime(df_combined_filtered['Inbetriebnahmedatum der Einheit'], format=\"%d.%m.%Y\", errors='coerce')\n",
    "\n",
    "# Gruppensummen für 'Bruttoleistung der Einheit' und 'Nettonennleistung der Einheit' basierend auf 'Inbetriebnahmedatum der Einheit' berechnen\n",
    "grouped_sum = df_combined_filtered.groupby('Inbetriebnahmedatum der Einheit').agg({\n",
    "    'Bruttoleistung der Einheit': lambda x: x.str.replace(',', '.').astype(float).sum(),\n",
    "    'Nettonennleistung der Einheit': lambda x: x.str.replace(',', '.').astype(float).sum()\n",
    "}).reset_index()\n",
    "\n",
    "# Spaltennamen ändern\n",
    "grouped_sum = grouped_sum.rename(columns={'Bruttoleistung der Einheit': 'Bruttoleistung', 'Nettonennleistung der Einheit': 'Nettoleistung'})\n",
    "\n",
    "# Gruppensummen in den DataFrame df_combined einfügen\n",
    "df_modules = df_modules.merge(grouped_sum, left_on='date', right_on='Inbetriebnahmedatum der Einheit', how='left').fillna(0)\n",
    "\n",
    "# Ergebnisse anzeigen\n",
    "df_modules = df_modules.drop(columns=['Inbetriebnahmedatum der Einheit'])  # Optional: Entfernen Sie die zusätzliche Spalte\n",
    "df_modules.head()"
   ]
  },
  {
   "cell_type": "code",
   "execution_count": null,
   "id": "06bc3598-b1ae-456e-a18f-fdd89b7dfd14",
   "metadata": {},
   "outputs": [],
   "source": [
    "# alternatively collecting data from 1 downloaded file:\n",
    "# data source: https://download.marktstammdatenregister.de/Gesamtdatenexport_20240306_23.2.zip (or any current version from 'Gesamtdatenauszug vom Vortag' at https://www.marktstammdatenregister.de/MaStR/Datendownload)\n",
    "# files: EinheitenSolar_1-39.xml, already unpacked in /data\n",
    "\n",
    "\n",
    "#import xml.etree.ElementTree as ET\n",
    "#\n",
    "#files = list(range(1,40)) # manually setting numbers 1-39\n",
    "# creating empty dataframe\n",
    "#df_mod_raw = pd.DataFrame(columns=['Datum', 'PLZ', 'Bruttoleistung','Nettonennleistung','Inbetriebnahme'])\n",
    "#counter = 0\n",
    "#for file in files:\n",
    "#    source = 'data/EinheitenSolar_'+str(file)+'.xml'\n",
    "#    tree = ET.parse(source)\n",
    "#    root = tree.getroot()\n",
    "#    \n",
    "#    for einheit in root.findall('EinheitSolar'):\n",
    "#        try: \n",
    "#            land = einheit.find('Bundesland').text\n",
    "#        except:\n",
    "#            land = 'Unbekannt'\n",
    "#        if land == '1403': # Bundesland 1403 = Bayern\n",
    "#            try: \n",
    "#                inbetrieb = einheit.find('Inbetriebnahmedatum').text\n",
    "#            except:\n",
    "#                inbetrieb = 'Ausser_Betrieb'\n",
    "#            \n",
    "#            if inbetrieb.startswith(('2015','2016','2017','2018','2019','2020','2021','2022','2023')):  \n",
    "#                plz = einheit.find('Postleitzahl').text \n",
    "#                brutto = float(einheit.find('Bruttoleistung').text)\n",
    "#                netto = float(einheit.find('Nettonennleistung').text)\n",
    "#                datum = einheit.find('DatumLetzteAktualisierung').text\n",
    "#        \n",
    "#                datum = datum[:10]\n",
    "#                df_mod_raw.loc[counter] = [datum,plz,brutto,netto,inbetrieb]\n",
    "#                counter = counter + 1"
   ]
  },
  {
   "cell_type": "code",
   "execution_count": null,
   "id": "ca5d3e46-0aa8-4df8-971c-ce4c4323190a",
   "metadata": {},
   "outputs": [],
   "source": [
    "# merging dataframes\n",
    "df_final_raw_2015_2023 = df_modules.merge(df_modules,df_en, on = 'date')\n",
    "df_final_raw_2015_2023 = df_final_raw_2015_2023.merge(df_stations, on = 'date')\n",
    "#df_final_raw_2015_2023.to_csv('../CSV/df_final_raw_2015_2023.csv')"
   ]
  },
  {
   "cell_type": "code",
   "execution_count": null,
   "id": "38ba44bc-e5af-452d-bb08-a3f6cefecb40",
   "metadata": {},
   "outputs": [],
   "source": [
    "# first EDA of raw dataframe\n",
    "import matplotlib.pyplot as plt\n",
    "import seaborn as sns\n",
    "import pandas as pd\n",
    "\n",
    "df_raw = pd.read_csv('../CSV/df_final_raw_2015_2023.csv',index_col=0,parse_dates=['date'])\n",
    "df_raw.info()\n",
    "df_raw.head()"
   ]
  },
  {
   "cell_type": "code",
   "execution_count": null,
   "id": "c8a66088-0be6-438c-9e2f-12a255ebe5fa",
   "metadata": {},
   "outputs": [],
   "source": [
    "df_raw.describe()"
   ]
  },
  {
   "cell_type": "code",
   "execution_count": null,
   "id": "6c5efc95-7300-46ed-8dba-7f0addfc268a",
   "metadata": {},
   "outputs": [],
   "source": [
    "df_raw.plot(x='date',y='05792_FD_STRAHL',figsize=(10,6)) #example of stations-file for -999 values"
   ]
  },
  {
   "cell_type": "code",
   "execution_count": null,
   "id": "743a3aa2-b5f9-489e-aa41-c57abb0ce305",
   "metadata": {},
   "outputs": [],
   "source": [
    "df_raw.loc[:,'05792_FD_STRAHL'].plot(kind='hist',figsize=(10,6),bins=100)\n",
    "# values to be imputed: -999, 0 , since no solar radiation at all seems physically not plausible"
   ]
  },
  {
   "cell_type": "code",
   "execution_count": null,
   "id": "10eb10fa-7a5a-4450-a3a2-edbc5c540027",
   "metadata": {},
   "outputs": [],
   "source": [
    "df_raw.plot(x='date',y='03668_SD_STRAHL',figsize=(10,6))"
   ]
  },
  {
   "cell_type": "code",
   "execution_count": null,
   "id": "d5c9408e-4df0-40d4-a75d-bd13b86a74f4",
   "metadata": {},
   "outputs": [],
   "source": [
    "df_raw.loc[:,'03668_SD_STRAHL'].plot(kind='hist',figsize=(10,6),bins=100)\n",
    "# values to be imputed: -999"
   ]
  },
  {
   "cell_type": "code",
   "execution_count": null,
   "id": "82410d33-3060-44ea-9ff8-9f8b594d55ed",
   "metadata": {},
   "outputs": [],
   "source": [
    "df_raw.plot(x='date',y='Act_in_MW',figsize=(10,6)) "
   ]
  },
  {
   "cell_type": "code",
   "execution_count": null,
   "id": "88661eae-9501-4dc5-9755-2353d6841115",
   "metadata": {},
   "outputs": [],
   "source": [
    "df = pd.read_csv('../CSV/df_final_raw_2015_2023.csv',index_col=0,parse_dates=['date'])\n",
    "\n",
    "df = df.drop('Prog_in_MW',axis=1) # similar to target column, high danger of data leakage\n",
    "\n",
    "cols_sd =[col for col in df.columns if 'SD' in col]\n",
    "for col in cols_sd:\n",
    "    # setting values < 0 (i.a. -999) to NaN\n",
    "    df.loc[(df.loc[:,col] < 0),col] = pd.NA\n",
    "\n",
    "cols_fd_fg = [col for col in df.columns if ('FD' in col)|('FG' in col)]\n",
    "for col in cols_fd_fg:\n",
    "    # setting values < 1 (-999 and 0) to NaN\n",
    "    df.loc[(df.loc[:,col] < 1),col] = pd.NA\n",
    "\n",
    "df.info()\n",
    "display(df.head())\n"
   ]
  },
  {
   "cell_type": "code",
   "execution_count": null,
   "id": "cb7c5386-1aa9-491c-a65d-71b8fc5c0eff",
   "metadata": {},
   "outputs": [],
   "source": [
    "fig,ax=plt.subplots(figsize=(15,15))\n",
    "sns.heatmap(df.corr(),cmap=\"coolwarm\",annot=True,ax=ax)\n",
    "plt.xticks(rotation=-45)  # Rotate x-axis labels for readability\n",
    "\n",
    "plt.tight_layout()  # Adjust spacing for readability\n",
    "plt.show()"
   ]
  },
  {
   "cell_type": "code",
   "execution_count": null,
   "id": "726c36e0-00e0-41c5-a1cf-f885865a36be",
   "metadata": {},
   "outputs": [],
   "source": [
    "display(df.plot(x='date',y='05792_FD_STRAHL',figsize=(10,6))) #with NaNs\n",
    "\n",
    "# imputing implausible values\n",
    "r, c = np.where(df.iloc[:,:-3].isna())\n",
    "for i in range(len(r)):\n",
    "    # getting all SD, FG or FD columns if applicable (identical physical measurements in Bavaria)\n",
    "    cols_na = [col for col in df.columns if col.endswith(str(df.columns[c[i]])[5:])]\n",
    "\n",
    "    # getting the median of specific day from corresponding columns\n",
    "    med_row = df.loc[(df.index==r[i]) & (df['date'].dt.day==(df.iloc[r[i],0].day)) & (df['date'].dt.month==(df.iloc[r[i],0].month)),cols_na].sum().median()\n",
    "\n",
    "    # getting the median of NaN column for specific day of the year\n",
    "    med_col = df.loc[(df['date'].dt.day==(df.iloc[r[i],0].day)) & (df['date'].dt.month==(df.iloc[r[i],0].month)),df.columns[c[i]]].median()\n",
    "    \n",
    "    # calculating mean of both medians\n",
    "    mean_v = np.nanmean(np.array([med_col,med_row]))\n",
    "\n",
    "    # imputing\n",
    "    df.iloc[r[i],c[i]] = mean_v\n",
    "    \n",
    "display(df.plot(x='date',y='05792_FD_STRAHL',figsize=(10,6))) #with imputed values \n",
    "df.isna().sum()"
   ]
  },
  {
   "cell_type": "code",
   "execution_count": null,
   "id": "b397745f-19f8-44cd-bd3d-aabaff99110c",
   "metadata": {},
   "outputs": [],
   "source": [
    "# manually gathered from http://www.marktstammdatenregister.de/MaStR/Einheit/Einheiten/OeffentlicheEinheitenuebersicht?filter=Inbetriebnahmedatum%20der%20Einheit~lt~%2701.01.2015%27~and~Energietr%C3%A4ger~eq~%272495%27~and~Bundesland~eq~%271403%27\n",
    "# brutto vor 2015: 10.941.816 kW\n",
    "# netto vor 2015: 10.135.888 kW\n",
    "\n",
    "# creating new features for cumulative area of solarmodules for each day\n",
    "df.loc[:,'Bruttoleistung_kumulativ'] = df.loc[:,'Bruttoleistung'].cumsum()+10941816\n",
    "df.loc[:,'Nettoleistung_kumulativ'] = df.loc[:,'Nettoleistung'].cumsum()+10135888\n",
    "\n",
    "# brutto vor 2024: 22.454.441 kW\n",
    "# netto vor 2024: 20.404.484 kW\n",
    "print('Difference in Brutto MW of extracted data and direct information from website:',22454441-round(df.iloc[-1,-2]),'(',round((22454441-round(df.iloc[-1,-2]))/22454441,3),'%)')\n",
    "print('Difference in Netto MW of extracted data and direct information from website:',20404484-round(df.iloc[-1,-1]),'(',round((20404484-round(df.iloc[-1,-1]))/20404484,3),'%)')\n",
    "\n",
    "# development of area of solarmodules from 2015-2023\n",
    "df.plot(x='date',y='Bruttoleistung_kumulativ',figsize=(10,6)) \n",
    "\n",
    "#df.to_csv('../CSV/df_solar_energy_2015_2023.csv')"
   ]
  },
  {
   "cell_type": "code",
   "execution_count": null,
   "id": "302a9b0f-ac2f-49e6-9d07-4c06c4cc62c8",
   "metadata": {},
   "outputs": [],
   "source": [
    "# EDA for timeseries\n",
    "\n",
    "df_ts = df.set_index('date').copy()\n",
    "df_ts.head()"
   ]
  },
  {
   "cell_type": "code",
   "execution_count": null,
   "id": "e19cda71-5598-4ab9-a763-84e22303bfe8",
   "metadata": {},
   "outputs": [],
   "source": [
    "from statsmodels.tsa.seasonal import seasonal_decompose\n",
    "# Assuming 'Act_in_MW' is the column you want to decompose\n",
    "# Perform seasonal decomposition\n",
    "decomposition = seasonal_decompose(df_ts['Act_in_MW'], period=365)  \n",
    "\n",
    "# Plot the decomposed components\n",
    "fig = plt.figure()  \n",
    "fig = decomposition.plot()  \n",
    "plt.show()"
   ]
  },
  {
   "cell_type": "code",
   "execution_count": null,
   "id": "4b7c7cb8-5fda-48b2-97ba-b03c173fbb43",
   "metadata": {},
   "outputs": [],
   "source": [
    "from statsmodels.tsa.stattools import adfuller\n",
    "\n",
    "def test_stationarity(timeseries):\n",
    "    # Determing rolling statistics\n",
    "    rolmean = timeseries.rolling(window=52).mean()\n",
    "    rolstd = timeseries.rolling(window=52).std()\n",
    "\n",
    "    # Plot rolling statistics\n",
    "    fig = plt.figure(figsize=(12, 8))\n",
    "    orig = plt.plot(timeseries, color='blue', label='Original')\n",
    "    mean = plt.plot(rolmean, color='red', label='Rolling Mean')\n",
    "    std = plt.plot(rolstd, color='black', label='Rolling Std')\n",
    "    plt.legend(loc='best')\n",
    "    plt.title('Rolling Mean & Standard Deviation')\n",
    "    plt.show()\n",
    "\n",
    "    # Perform Dickey-Fuller test\n",
    "    print('Results of Dickey-Fuller Test:')\n",
    "    dftest = adfuller(timeseries, autolag='AIC')\n",
    "    dfoutput = pd.Series(dftest[0:4], index=['Test Statistic', 'p-value', '#Lags Used', 'Number of Observations Used'])\n",
    "    for key, value in dftest[4].items():\n",
    "        dfoutput['Critical Value (%s)' % key] = value\n",
    "    print(dfoutput)\n",
    "\n",
    "# Beispielaufruf mit der Spalte 'Act_in_MW'\n",
    "test_stationarity(df_ts['Act_in_MW'])"
   ]
  },
  {
   "cell_type": "code",
   "execution_count": null,
   "id": "43b6e93d-cb35-4030-bdd7-f4e9d7d45432",
   "metadata": {},
   "outputs": [],
   "source": [
    "df_ts['first_difference'] = df_ts['Act_in_MW'] - df_ts['Act_in_MW'].shift(1)\n",
    "test_stationarity(df_ts['first_difference'].dropna(inplace = False))"
   ]
  },
  {
   "cell_type": "code",
   "execution_count": null,
   "id": "17e38694-adb5-460e-badd-f231d0db3805",
   "metadata": {},
   "outputs": [],
   "source": [
    "# Beispiel: Berechnung der ersten Differenz\n",
    "df_ts['first_difference'] = df_ts['Act_in_MW'].diff()\n",
    "\n",
    "# Beispiel: Berechnung der saisonalen Differenz\n",
    "df_ts['seasonal_first_difference'] = df_ts['first_difference'] - df_ts['first_difference'].shift(365)\n",
    "\n",
    "# Test auf Stationarität\n",
    "test_stationarity(df_ts['seasonal_first_difference'].dropna(inplace=False))"
   ]
  },
  {
   "cell_type": "code",
   "execution_count": null,
   "id": "c4d1aed7-8322-4507-880a-5a9e00fcb7a9",
   "metadata": {},
   "outputs": [],
   "source": [
    "import statsmodels.api as sm\n",
    "fig = plt.figure(figsize=(12,8))\n",
    "ax1 = fig.add_subplot(211)\n",
    "fig = sm.graphics.tsa.plot_acf(df_ts.seasonal_first_difference.iloc[366:], lags=20, ax=ax1)\n",
    "ax2 = fig.add_subplot(212)\n",
    "fig = sm.graphics.tsa.plot_pacf(df_ts.seasonal_first_difference.iloc[366:], lags=20, ax=ax2)"
   ]
  },
  {
   "cell_type": "code",
   "execution_count": null,
   "id": "c5e677e1-8ddd-47b3-a514-3890288f1b1e",
   "metadata": {},
   "outputs": [],
   "source": [
    "#todos:\n",
    "#add markdown text for explanation\n",
    "#pyplot for figures, improve labeling\n",
    "\n",
    "#reorganize folders in repo (/data/)"
   ]
  }
 ],
 "metadata": {
  "kernelspec": {
   "display_name": "Python 3 (ipykernel)",
   "language": "python",
   "name": "python3"
  },
  "language_info": {
   "codemirror_mode": {
    "name": "ipython",
    "version": 3
   },
   "file_extension": ".py",
   "mimetype": "text/x-python",
   "name": "python",
   "nbconvert_exporter": "python",
   "pygments_lexer": "ipython3",
   "version": "3.11.7"
  }
 },
 "nbformat": 4,
 "nbformat_minor": 5
}
