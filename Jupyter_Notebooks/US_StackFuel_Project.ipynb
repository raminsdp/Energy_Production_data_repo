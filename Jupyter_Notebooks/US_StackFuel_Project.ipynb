{
 "cells": [
  {
   "cell_type": "code",
   "execution_count": null,
   "id": "94445b42-38f4-429f-9465-94d778306b23",
   "metadata": {},
   "outputs": [],
   "source": [
    "print('Hello World')"
   ]
  },
  {
   "cell_type": "code",
   "execution_count": null,
   "id": "445dc929-a1f0-44f2-98b7-95d129d1f08e",
   "metadata": {},
   "outputs": [],
   "source": [
    "import pandas as pd\n",
    "import matplotlib.pyplot as plt\n",
    "import os\n",
    "import datetime as dt\n",
    "#os.listdir()\n"
   ]
  },
  {
   "cell_type": "code",
   "execution_count": null,
   "id": "756d917e-725f-4768-8a2d-4dc7e44988fd",
   "metadata": {},
   "outputs": [],
   "source": [
    "import requests, zipfile\n",
    "from io import BytesIO\n",
    "from io import StringIO\n",
    "\n",
    "url = 'https://opendata.dwd.de/climate_environment/CDC/observations_germany/climate/daily/solar/tageswerte_ST_03668_row.zip'\n",
    "\n",
    "req = requests.get(url)\n",
    "zip = zipfile.ZipFile(BytesIO(req.content))  #zipfile.ZipFile(BytesIO(req.content))\n",
    "f = zip.open(zip.namelist()[-1])\n",
    "content = f.read()\n",
    "s=str(content,'utf-8')\n",
    "data = StringIO(s) \n",
    "\n",
    "pd.read_csv(data,sep=';',parse_dates=['MESS_DATUM'],usecols=['MESS_DATUM','FD_STRAHL','FG_STRAHL','SD_STRAHL']).head()"
   ]
  },
  {
   "cell_type": "code",
   "execution_count": null,
   "id": "40f77f12-4a76-41e1-949a-51f8b687c68b",
   "metadata": {},
   "outputs": [],
   "source": [
    "# Stations id's per Bundesland bekommen\n",
    "url = 'https://opendata.dwd.de/climate_environment/CDC/observations_germany/climate/daily/solar/ST_Tageswerte_Beschreibung_Stationen.txt'\n",
    "\n",
    "df_dwd = pd.read_fwf(url,encoding = \"ISO-8859-1\",colspecs=[(0,5),(6,14),(15,23),(36,38),(43,51),(53,60),(61,84),(142,165)])[1:]\n",
    "df_dwd.columns = ['Stations_id', 'von_datum', 'bis_datum', 'Stationshoehe', 'geoBreite', 'geoLaenge', 'Stationsname', 'Bundesland']\n",
    "mask = df_dwd.loc[:,'Bundesland'] == 'Bayern'\n",
    "list(df_dwd.loc[mask,'Stations_id'])"
   ]
  },
  {
   "cell_type": "code",
   "execution_count": null,
   "id": "999713b3-9478-4cc6-8726-e77e2e8a9865",
   "metadata": {},
   "outputs": [],
   "source": [
    "# data source: https://opendata.dwd.de/climate_environment/CDC/observations_germany/climate/daily/solar/\n",
    "# several stations for BY are missing\n",
    "\n",
    "df = pd.DataFrame({'date': pd.date_range(start='1/1/2023', freq='1d', periods=365)})\n",
    "\n",
    "stationsid = ['03668','05792']\n",
    "for id in stationsid:\n",
    "    stationsname = 'Station_'+id+'.txt'\n",
    "    df_stat = pd.read_csv(stationsname,sep=';',parse_dates=['MESS_DATUM'],usecols=['MESS_DATUM','FD_STRAHL','FG_STRAHL','SD_STRAHL'])\n",
    "    mask = (df_stat.loc[:,'MESS_DATUM'] >= '2023-01-01') & (df_stat.loc[:,'MESS_DATUM'] <= '2023-12-31')\n",
    "    df_stat.columns =['date',id+'_FD_STRAHL',id+'_FG_STRAHL',id+'_SD_STRAHL']\n",
    "    df = df.merge(df_stat.loc[mask,:],on='date')\n",
    "\n",
    "df.head()"
   ]
  },
  {
   "cell_type": "code",
   "execution_count": null,
   "id": "26c43aef-8e26-4be6-9ade-b9d4e338f763",
   "metadata": {},
   "outputs": [],
   "source": [
    "# data source: https://netztransparenz.tennet.eu/de/strommarkt/transparenz/transparenz-deutschland/netzkennzahlen/tatsaechliche-und-prognostizierte-solarenergieeinspeisung/bayern/\n",
    "# filtered for 2023-01-01 to 2023-12-31\n",
    "# input id:\"daterange\" \n",
    "\n",
    "df_en_raw = pd.read_table('solarEnergyFeedIn_BY_2023-01-01_2023-12-31.csv',sep=';',parse_dates=['Datum'],decimal=',')\n",
    "\n",
    "df_en = pd.DataFrame({'date': pd.date_range(start='1/1/2023', freq='1d', periods=365)})\n",
    "df_en.loc[:,'Prog_in_MW'] = pd.DataFrame(df_en_raw.groupby(['Datum'], as_index=False)['Prognostiziert in MW'].sum()).iloc[:,1]\n",
    "df_en.loc[:,'Act_in_MW'] = pd.DataFrame(df_en_raw.groupby(['Datum'], as_index=False)['Tatsaechlich in MW'].sum()).iloc[:,1]\n",
    "df = df.merge(df_en,on='date')\n",
    "df.head()"
   ]
  },
  {
   "cell_type": "code",
   "execution_count": null,
   "id": "7fd43dd3-1533-4f42-942e-2d8d8311a6f4",
   "metadata": {},
   "outputs": [],
   "source": [
    "#file = open(\"Einheitensolar/EinheitenSolar_38.xml\", \"r\")\n",
    "#print(file.read()[:3500])"
   ]
  },
  {
   "cell_type": "code",
   "execution_count": null,
   "id": "65c330f6-eb0d-42e4-8806-b501c7d41d9a",
   "metadata": {},
   "outputs": [],
   "source": [
    "# data source: https://download.marktstammdatenregister.de/Gesamtdatenexport_20240306_23.2.zip\n",
    "# EinheitenSolar_1-39.xml\n",
    "\n",
    "#import xml.etree.ElementTree as ET\n",
    "#\n",
    "#files = list(range(1,40))\n",
    "#df_mod_raw = pd.DataFrame(columns=['Datum', 'PLZ', 'Bruttoleistung','Nettonennleistung','Inbetriebnahme'])\n",
    "#counter = 0\n",
    "#for file in files:\n",
    "#    source = 'Einheitensolar/EinheitenSolar_'+str(file)+'.xml'\n",
    "#    tree = ET.parse(source)\n",
    "#    root = tree.getroot()\n",
    "#    \n",
    "#    for einheit in root.findall('EinheitSolar'):\n",
    "#        try: \n",
    "#            land = einheit.find('Bundesland').text\n",
    "#        except:\n",
    "#            land = 'Unbekannt'\n",
    "#        if land == '1403': # Bundesland 1403 = Bayern\n",
    "#            try: \n",
    "#                inbetrieb = einheit.find('Inbetriebnahmedatum').text\n",
    "#            except:\n",
    "#                inbetrieb = 'Ausser_Betrieb'\n",
    "#            \n",
    "#            if inbetrieb.startswith('2023'):  \n",
    "#                plz = einheit.find('Postleitzahl').text \n",
    "#                brutto = float(einheit.find('Bruttoleistung').text)\n",
    "#                netto = float(einheit.find('Nettonennleistung').text)\n",
    "#                datum = einheit.find('DatumLetzteAktualisierung').text\n",
    "#        \n",
    "#                datum = datum[:10]\n",
    "#                df_mod_raw.loc[counter] = [datum,plz,brutto,netto,inbetrieb]\n",
    "#                counter = counter + 1"
   ]
  },
  {
   "cell_type": "code",
   "execution_count": null,
   "id": "6b52edc6-8c0a-43f9-b046-b7755d991abb",
   "metadata": {},
   "outputs": [],
   "source": [
    "df_mod = pd.DataFrame({'date': pd.date_range(start='1/1/2023', freq='1d', periods=365)})\n",
    "df_mod.loc[:,'Bruttoleistung'] = pd.DataFrame(df_mod_raw.groupby(['Inbetriebnahme'], as_index=False)['Bruttoleistung'].sum()).iloc[:,1]\n",
    "df_mod.loc[:,'Nettonennleistung'] = pd.DataFrame(df_mod_raw.groupby(['Inbetriebnahme'], as_index=False)['Nettonennleistung'].sum()).iloc[:,1]\n",
    "df_mod.loc[:,'Bruttoleistung_kumulativ'] = df_mod.loc[:,'Bruttoleistung'].cumsum()+18643291\n",
    "df_mod.loc[:,'Nettonennleistung_kumulativ'] = df_mod.loc[:,'Nettonennleistung'].cumsum()+17044680\n",
    "df = df.merge(df_mod,on='date')\n",
    "# netto vor 2023: 17.044.680 kW\n",
    "# brutto vor 2023: 18.643.291 kW"
   ]
  },
  {
   "cell_type": "code",
   "execution_count": null,
   "id": "8c3ac335-9684-44f2-a82e-87da56f7d700",
   "metadata": {},
   "outputs": [],
   "source": [
    "#df.to_csv('df_BY2023.csv')\n",
    "df.head()"
   ]
  },
  {
   "cell_type": "code",
   "execution_count": null,
   "id": "3f38cab3-b974-44bf-befe-0283996598fa",
   "metadata": {},
   "outputs": [],
   "source": [
    "df = pd.read_csv('df_final_2015_2023.csv',index_col='Unnamed: 0',parse_dates=['date'])\n",
    "\n",
    "cols_sd =['03668_SD_STRAHL',\n",
    "        '05792_SD_STRAHL',\n",
    "       '05856_SD_STRAHL',\n",
    "       '05705_SD_STRAHL',\n",
    "       '02290_SD_STRAHL',\n",
    "       '05404_SD_STRAHL']\n",
    "for col in cols_sd:\n",
    "    df.loc[(df.loc[:,col] < 0),col] = pd.NA\n",
    "\n",
    "cols_fd_fg =['03668_FD_STRAHL', '03668_FG_STRAHL', \n",
    "       '05792_FD_STRAHL', '05792_FG_STRAHL', \n",
    "       '05856_FD_STRAHL', '05856_FG_STRAHL', \n",
    "       '05705_FD_STRAHL', '05705_FG_STRAHL', \n",
    "       '02290_FD_STRAHL', '02290_FG_STRAHL', \n",
    "       '05404_FD_STRAHL', '05404_FG_STRAHL']\n",
    "for col in cols_fd_fg:\n",
    "    df.loc[(df.loc[:,col] < 1),col] = pd.NA\n",
    "\n",
    "df.plot(x='date',y='05792_FD_STRAHL',figsize=(10,6)) #\n",
    "\n",
    "# netto vor 2015: 10.135.888 kW \n",
    "# brutto vor 2015: 10.941.816 kW\n",
    "df.loc[:,'Bruttoleistung_kumulativ'] = df.loc[:,'Bruttoleistung'].cumsum()+10941816\n",
    "df.loc[:,'Nettoleistung_kumulativ'] = df.loc[:,'Nettoleistung'].cumsum()+10135888"
   ]
  },
  {
   "cell_type": "code",
   "execution_count": null,
   "id": "2ef20f8d-84d6-4826-84cf-7a4d9057687b",
   "metadata": {},
   "outputs": [],
   "source": [
    "#display(df.loc[(df['date'].dt.day==1) & (df['date'].dt.month==1),['05792_FD_STRAHL']])#.median() \n",
    "#display(df.loc[(df.index==365) & (df['date'].dt.day==1) & (df['date'].dt.month==1),['03668_FD_STRAHL','05792_FD_STRAHL','05856_FD_STRAHL','05705_FD_STRAHL','02290_FD_STRAHL']])#.median() #"
   ]
  },
  {
   "cell_type": "code",
   "execution_count": null,
   "id": "7dd86a90-43f7-4127-bda5-0c8dc360ab73",
   "metadata": {},
   "outputs": [],
   "source": [
    "import numpy as np\n",
    "r, c = np.where(df.iloc[:,:-4].isna())\n",
    "print(r[0],c[0])\n",
    "#print(len(r),len(c))\n",
    "print(df.iloc[r[0],c[0]])\n",
    "cols_na = [col for col in df.columns if col.endswith(str(df.columns[c[0]])[5:])]\n",
    "cols_na"
   ]
  },
  {
   "cell_type": "code",
   "execution_count": null,
   "id": "8df48fa7-c853-46e5-9cc8-42e7c8f67376",
   "metadata": {},
   "outputs": [],
   "source": []
  },
  {
   "cell_type": "code",
   "execution_count": null,
   "id": "4944b7d1-7ba8-44e8-8b68-344b7a7f6ab6",
   "metadata": {},
   "outputs": [],
   "source": [
    "#display(df.loc[(df['date'].dt.day==(df.iloc[31,0].day)) & (df['date'].dt.month==(df.iloc[31,0].month)),df.columns[c[0]]])\n",
    "#display(df.loc[ (df['date'].dt.day==(df.iloc[31,0].day)) & (df['date'].dt.month==(df.iloc[31,0].month)),cols_na]) #(df.index==31) &"
   ]
  },
  {
   "cell_type": "code",
   "execution_count": null,
   "id": "1bb54a4d-4150-4864-b40a-5e36f76a95c5",
   "metadata": {},
   "outputs": [],
   "source": [
    "for i in range(len(r)):\n",
    "    cols_na = [col for col in df.columns if col.endswith(str(df.columns[c[i]])[5:])]\n",
    "    med_col = df.loc[(df['date'].dt.day==(df.iloc[r[i],0].day)) & (df['date'].dt.month==(df.iloc[r[i],0].month)),df.columns[c[i]]].median()\n",
    "    \n",
    "    med_row = df.loc[(df.index==r[i]) & (df['date'].dt.day==(df.iloc[r[i],0].day)) & (df['date'].dt.month==(df.iloc[r[i],0].month)),cols_na].sum().median()\n",
    "    mean_v = (med_col+med_row)/2\n",
    "    #print(mean_v)\n",
    "    df.iloc[r[i],c[i]] =mean_v\n",
    "\n",
    "df.plot(x='date',y='05792_FD_STRAHL',figsize=(10,6))"
   ]
  },
  {
   "cell_type": "code",
   "execution_count": null,
   "id": "356db451-6507-4492-8e2a-61b6e6458643",
   "metadata": {},
   "outputs": [],
   "source": [
    "df.describe()\n",
    "df.to_csv('us_df_final_2015_2023.csv')"
   ]
  },
  {
   "cell_type": "code",
   "execution_count": null,
   "id": "68c94b14-06c5-4a89-b646-eb164e53f2d8",
   "metadata": {},
   "outputs": [],
   "source": [
    "df.plot(x='date',y='Act_in_MW',figsize=(10,6))"
   ]
  },
  {
   "cell_type": "code",
   "execution_count": null,
   "id": "3a5d7afc-70a0-476f-ad43-2c076316b61c",
   "metadata": {},
   "outputs": [],
   "source": [
    "df.plot(x='date',y='Bruttoleistung_kumulativ',figsize=(10,6)) "
   ]
  }
 ],
 "metadata": {
  "kernelspec": {
   "display_name": "Python 3 (ipykernel)",
   "language": "python",
   "name": "python3"
  },
  "language_info": {
   "codemirror_mode": {
    "name": "ipython",
    "version": 3
   },
   "file_extension": ".py",
   "mimetype": "text/x-python",
   "name": "python",
   "nbconvert_exporter": "python",
   "pygments_lexer": "ipython3",
   "version": "3.11.7"
  }
 },
 "nbformat": 4,
 "nbformat_minor": 5
}
