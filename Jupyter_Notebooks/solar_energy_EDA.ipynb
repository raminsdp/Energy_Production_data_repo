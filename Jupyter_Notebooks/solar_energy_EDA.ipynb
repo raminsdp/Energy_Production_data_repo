{
 "cells": [
  {
   "cell_type": "markdown",
   "id": "914b2441-94bd-49c2-8330-95738bee9377",
   "metadata": {},
   "source": [
    "### Explorative Data Analysis of Raw Dataframe\n",
    "After creation of the raw dataframe with the data_gathering.py script, a look into the given data is necessary. The focus will be missing and/or implausible values, correlations and trends. Technical details on the data will be shortly discussed, as well as decisions on imputation and generation of new features for preprocessing."
   ]
  },
  {
   "cell_type": "code",
   "execution_count": null,
   "id": "44475791-2471-4bb2-b7eb-97b9a185b959",
   "metadata": {},
   "outputs": [],
   "source": [
    "import matplotlib.pyplot as plt\n",
    "plt.style.use('bmh')\n",
    "import seaborn as sns\n",
    "import pandas as pd\n",
    "import numpy as np\n",
    "\n",
    "pd.options.display.float_format = '{:.2f}'.format\n",
    "np.set_printoptions(suppress=True,formatter={'float_kind':'{:0.2f}'.format})\n",
    "\n",
    "df_raw = pd.read_csv('../Dataset/preprocessed_data/df_final_raw_2015_2023.csv',index_col=0,parse_dates=['date'])\n",
    "df_raw.info()\n",
    "display(df_raw.head())\n",
    "df_raw.describe()"
   ]
  },
  {
   "cell_type": "markdown",
   "id": "468a18e8-ac35-471e-9fbc-4b9d2bffede1",
   "metadata": {},
   "source": [
    "> ### Further analysis for different data sources\n",
    ">\n",
    "> The weather data columns are having several issues, like missing and implausible values. From the data description of [DWD](https://opendata.dwd.de/climate_environment/CDC/observations_germany/climate/daily/solar/DESCRIPTION_obsgermany_climate_daily_solar_en.pdf) the value > \"-999\" indicates missing values. The value of \"0 J/cm²\" in one column (05792_FD_STRAHL) is deemed to be an outlier and also removed, since it is physical unlikely, and also an obvious data gap is to be seen.\n",
    "> The data from Marktstammdatenregister and Tennet have no missing values and are seemingly plausible."
   ]
  },
  {
   "cell_type": "code",
   "execution_count": null,
   "id": "6c5efc95-7300-46ed-8dba-7f0addfc268a",
   "metadata": {},
   "outputs": [],
   "source": [
    "fig, ax = plt.subplots(figsize=(10,5))\n",
    "df_raw.plot(x='date',y='03668_FD_STRAHL',figsize=(10,5),label='daily sum of diffuse solar radiation',title='Example of Given Values in Weather Station Column',ax=ax) #example of stations-file for -999 values\n",
    "plt.ylabel('J /cm²',fontsize=14)\n",
    "plt.xlabel('Date',fontsize=14)\n",
    "plt.show()"
   ]
  },
  {
   "cell_type": "code",
   "execution_count": null,
   "id": "743a3aa2-b5f9-489e-aa41-c57abb0ce305",
   "metadata": {},
   "outputs": [],
   "source": [
    "fig, ax = plt.subplots(figsize=(10,5))\n",
    "df_raw.loc[:,'05792_FD_STRAHL'].plot(kind='hist',figsize=(10,5),bins=100,\n",
    "                                     label='FD_Strahl Column of \"Zugspitze\"',title='Example of Distribution in Weather Station Column')\n",
    "plt.xlabel('Date',fontsize=14)\n",
    "ax.legend()\n",
    "plt.show()\n",
    "# values to be imputed: -999, 0 , since no solar radiation at all seems physically not plausible"
   ]
  },
  {
   "cell_type": "code",
   "execution_count": null,
   "id": "82410d33-3060-44ea-9ff8-9f8b594d55ed",
   "metadata": {},
   "outputs": [],
   "source": [
    "fig, ax = plt.subplots(figsize=(10,5))\n",
    "df_raw.plot(x='date',y='Act_in_MW',figsize=(10,5),ax=ax,title='Increase of Produced Solar Power (particulary in Summer)') \n",
    "ax.get_legend().remove()\n",
    "plt.ylabel('Daily Produced Energy in MW')\n",
    "plt.xlabel('Date')\n",
    "plt.show()"
   ]
  },
  {
   "cell_type": "code",
   "execution_count": null,
   "id": "505c14b0-c24b-4e38-9025-321bae3a1dc7",
   "metadata": {},
   "outputs": [],
   "source": [
    "fig, ax = plt.subplots(figsize=(10,5))\n",
    "df_raw.plot(x='date',y='Bruttoleistung',figsize=(10,5),ax=ax,title='Increasing of Registered Solar Panel Capacity',label='Daily registered capacity') \n",
    "plt.ylabel('Capacity in kWp')\n",
    "plt.xlabel('Date')\n",
    "plt.show()"
   ]
  },
  {
   "cell_type": "markdown",
   "id": "f6083006-5a90-44e2-9d2b-5f70ce797702",
   "metadata": {},
   "source": [
    "### Preprocessing of raw data\n",
    "\n",
    "For further usage in this project the missing values from the weather stations needs to be imputed, and new feature are needed to be engineered.\n",
    "\n",
    "First the values will be set to pd.NA"
   ]
  },
  {
   "cell_type": "code",
   "execution_count": null,
   "id": "88661eae-9501-4dc5-9755-2353d6841115",
   "metadata": {},
   "outputs": [],
   "source": [
    "df = pd.read_csv('../Dataset/preprocessed_data/df_final_raw_2015_2023.csv',index_col=0,parse_dates=['date'])\n",
    "\n",
    "df = df.drop('Prog_in_MW',axis=1) # similar to target column, high danger of data leakage\n",
    "\n",
    "cols_sd =[col for col in df.columns if 'SD' in col]\n",
    "for col in cols_sd:\n",
    "    # setting values < 0 (i.a. -999) to NaN\n",
    "    df.loc[(df.loc[:,col] < 0),col] = pd.NA\n",
    "\n",
    "cols_fd_fg = [col for col in df.columns if ('FD' in col)|('FG' in col)]\n",
    "for col in cols_fd_fg:\n",
    "    # setting values < 1 (-999 and 0) to NaN\n",
    "    df.loc[(df.loc[:,col] < 1),col] = pd.NA\n",
    "\n",
    "df.info()\n",
    "display(df.head())"
   ]
  },
  {
   "cell_type": "markdown",
   "id": "d42e4eb3-2392-4783-b4a0-6b6db6d4fe3f",
   "metadata": {},
   "source": [
    "### Heatmap of data to look for correlation\n",
    "Some of the weather data are highly correlating with respective columns over different stations, as it should be expected. Also, Bruttoleistung and Nettoleistung are likely the same. "
   ]
  },
  {
   "cell_type": "code",
   "execution_count": null,
   "id": "cb7c5386-1aa9-491c-a65d-71b8fc5c0eff",
   "metadata": {},
   "outputs": [],
   "source": [
    "fig,ax=plt.subplots(figsize=(15,15))\n",
    "sns.heatmap(df.corr(),cmap=\"coolwarm\",annot=True,ax=ax)\n",
    "plt.xticks(rotation=-45)  # Rotate x-axis labels for readability\n",
    "\n",
    "plt.tight_layout()  # Adjust spacing for readability\n",
    "plt.show()"
   ]
  },
  {
   "cell_type": "markdown",
   "id": "21c08986-331e-4094-a075-dd8f8c707831",
   "metadata": {},
   "source": [
    "Example of one column with NaN values"
   ]
  },
  {
   "cell_type": "code",
   "execution_count": null,
   "id": "e1b0befb-b0d6-4e49-bede-947566789a72",
   "metadata": {},
   "outputs": [],
   "source": [
    "df_nan = df.loc[:,['date','05792_FG_STRAHL']].dropna()\n",
    "df_nan.loc[:,'date']=df_nan.loc[:,'date'].map(pd.Timestamp.toordinal)\n",
    "xn, yn = df_nan['date'],df_nan['05792_FG_STRAHL']\n",
    "df_nan.loc[:,'date']=df_nan.loc[:,'date'].map(pd.Timestamp.fromordinal)\n",
    "\n",
    "plt.scatter(xn, yn,s=6)\n",
    "\n",
    "#calculate equation for trendline\n",
    "zn = np.polyfit(xn, yn, 1)\n",
    "pn = np.poly1d(zn)\n",
    "\n",
    "#add trendline to plot\n",
    "plt.plot(xn, pn(xn),color='red')\n",
    "\n",
    "from scipy.stats import linregress\n",
    "print('Slope of regression before imputation:',linregress(xn, yn).slope)"
   ]
  },
  {
   "cell_type": "markdown",
   "id": "08cb4bdb-7ae8-42c7-b501-408c5bc6bfea",
   "metadata": {},
   "source": [
    "A short overview of respective row and column for a missing value, as well as the calculation for the filling value."
   ]
  },
  {
   "cell_type": "code",
   "execution_count": null,
   "id": "9ef9d771-2bd9-4385-a810-c0d93546436f",
   "metadata": {},
   "outputs": [],
   "source": [
    "cols_fg =[col for col in df.columns if 'FG' in col]\n",
    "display(df.loc[(df['date'].dt.day==1) & (df['date'].dt.month==1),cols_fg])\n",
    "print('Median of Column: ',df.loc[(df['date'].dt.day==1) & (df['date'].dt.month==1),'05792_FG_STRAHL'].median())\n",
    "print('Median of Row: ',df.loc[(df.index==365) & (df['date'].dt.day==1) & (df['date'].dt.month==1),cols_fg].sum().median())\n",
    "print('Mean value of both medians: ',((df.loc[(df['date'].dt.day==1) & (df['date'].dt.month==1),'05792_FG_STRAHL'].median())+(df.loc[(df.index==365) & (df['date'].dt.day==1) & (df['date'].dt.month==1),cols_fg].sum().median()))/2)"
   ]
  },
  {
   "cell_type": "markdown",
   "id": "2eb25ddc-42a9-4004-8774-c9c6566d5b4c",
   "metadata": {},
   "source": [
    "Imputation of missing values using the **mean** value of **median** of the row (actual day and respective physical parameter) and **median** of column (respective day over the years)"
   ]
  },
  {
   "cell_type": "code",
   "execution_count": null,
   "id": "726c36e0-00e0-41c5-a1cf-f885865a36be",
   "metadata": {},
   "outputs": [],
   "source": [
    "# imputing implausible values\n",
    "r, c = np.where(df.iloc[:,:-3].isna())\n",
    "for i in range(len(r)):\n",
    "    # getting all SD, FG or FD columns if applicable (identical physical measurements in Bavaria)\n",
    "    cols_na = [col for col in df.columns if col.endswith(str(df.columns[c[i]])[5:])]\n",
    "\n",
    "    # getting the median of specific day from corresponding columns\n",
    "    med_row = df.loc[(df.index==r[i]) & (df['date'].dt.day==(df.iloc[r[i],0].day)) & (df['date'].dt.month==(df.iloc[r[i],0].month)),cols_na].sum().median()\n",
    "\n",
    "    # getting the median of NaN column for specific day of the year\n",
    "    med_col = df.loc[(df['date'].dt.day==(df.iloc[r[i],0].day)) & (df['date'].dt.month==(df.iloc[r[i],0].month)),df.columns[c[i]]].median()\n",
    "    \n",
    "    # calculating mean of both medians\n",
    "    mean_v = np.nanmean(np.array([med_col,med_row]))\n",
    "\n",
    "    # imputing\n",
    "    df.iloc[r[i],c[i]] = mean_v\n",
    "\n",
    "df.isna().sum() #no values were overseen"
   ]
  },
  {
   "cell_type": "markdown",
   "id": "4e0993d5-29f3-4092-887b-b695d833bef6",
   "metadata": {},
   "source": [
    "Example of one column (same as above) with imputed values"
   ]
  },
  {
   "cell_type": "code",
   "execution_count": null,
   "id": "9900b0bb-2c31-4dfd-a39d-23393db3b07c",
   "metadata": {},
   "outputs": [],
   "source": [
    "df.loc[:,'date']=df.loc[:,'date'].map(pd.Timestamp.toordinal)\n",
    "x, y = df['date'],df['05792_FG_STRAHL']\n",
    "df.loc[:,'date']=df.loc[:,'date'].map(pd.Timestamp.fromordinal)\n",
    "plt.scatter(x, y,s=6)\n",
    "\n",
    "#calculate equation for trendline\n",
    "z = np.polyfit(x, y, 1)\n",
    "p = np.poly1d(z)\n",
    "\n",
    "#add trendline to plot\n",
    "plt.plot(x, p(x),color='red')\n",
    "\n",
    "from scipy.stats import linregress\n",
    "print('Slope of regression after imputation:',linregress(x, y).slope)"
   ]
  },
  {
   "cell_type": "markdown",
   "id": "17be2582-da94-4908-8d39-f943dbf7ca9b",
   "metadata": {},
   "source": [
    "### New feature to be created: cumulative value of net- and gross production capacity\n",
    "\n",
    "The cumulative value will show the actual capacity on each day. The base value for this calculation (values before 2015) were manually copied from the same source [Marktstammdatenregister](http://www.marktstammdatenregister.de/MaStR/Einheit/Einheiten/OeffentlicheEinheitenuebersicht?filter=Inbetriebnahmedatum%20der%20Einheit~lt~%2701.01.2015%27~and~Energietr%C3%A4ger~eq~%272495%27~and~Bundesland~eq~%271403%27)\n",
    "Capacity values before 2015:\n",
    "- 10.941.816 kWp gross\n",
    "- 10.135.888 kWp net\n",
    "\n",
    "Difference of the whole scripted calculation compared to automated calculation from source is less than 0.002 %, which is also explained by daily changing information on this platform."
   ]
  },
  {
   "cell_type": "code",
   "execution_count": null,
   "id": "b397745f-19f8-44cd-bd3d-aabaff99110c",
   "metadata": {},
   "outputs": [],
   "source": [
    "# creating new features for cumulative area of solarmodules for each day\n",
    "df.loc[:,'Bruttoleistung_kumulativ'] = df.loc[:,'Bruttoleistung'].cumsum()+10941816\n",
    "df.loc[:,'Nettoleistung_kumulativ'] = df.loc[:,'Nettoleistung'].cumsum()+10135888\n",
    "\n",
    "# brutto vor 2024: 22.454.441 kW\n",
    "# netto vor 2024: 20.404.484 kW\n",
    "print('Difference in Brutto MW of extracted data and direct information from website:',22454441-round(df.iloc[-1,-2]),'(',round((22454441-round(df.iloc[-1,-2]))/22454441,3),'%)')\n",
    "print('Difference in Netto MW of extracted data and direct information from website:',20404484-round(df.iloc[-1,-1]),'(',round((20404484-round(df.iloc[-1,-1]))/20404484,3),'%)')"
   ]
  },
  {
   "cell_type": "code",
   "execution_count": null,
   "id": "90bd8486-5541-4525-b9bf-8b7c73dc1001",
   "metadata": {},
   "outputs": [],
   "source": [
    "# saving the preprocessed data\n",
    "df.to_csv('../Dataset/preprocessed_data/df_solar_energy_2015_2023.csv')"
   ]
  },
  {
   "cell_type": "code",
   "execution_count": null,
   "id": "e04fb04e-5726-4295-b9aa-1272c4608293",
   "metadata": {},
   "outputs": [],
   "source": [
    "# development of area of solarmodules from 2015-2023\n",
    "df.plot(x='date',y='Bruttoleistung_kumulativ',figsize=(10,5)) "
   ]
  },
  {
   "cell_type": "markdown",
   "id": "0d7be5c6-eb76-4195-a189-1aaae87eebbf",
   "metadata": {},
   "source": [
    "### Insight on trends within the data"
   ]
  },
  {
   "cell_type": "code",
   "execution_count": null,
   "id": "c5e677e1-8ddd-47b3-a514-3890288f1b1e",
   "metadata": {},
   "outputs": [],
   "source": [
    "summer = (df['date'].dt.month <= 8) & (df['date'].dt.month >= 5)\n",
    "df.loc[:,'Bruttoleistung_kumulativ'] = df.loc[:,'Bruttoleistung_kumulativ']/1000\n",
    "fig, ax1 = plt.subplots(figsize=(10,5))\n",
    "df.loc[:,'date']=df.loc[:,'date'].map(pd.Timestamp.toordinal) #converting date from timestamp to ordinal\n",
    "df_s = df.loc[summer,:]\n",
    "df.loc[~summer,:].plot.scatter(x='date',y='Act_in_MW',ax=ax1,alpha=0.3,fontsize=10,color='grey',label='non-linear Regression')\n",
    "ax1.grid(visible=None, which='major', axis='y')\n",
    "sns.regplot(data=df_s, x='date', y='Act_in_MW',ax=ax1, color='blue',order=2, scatter_kws={'alpha': 0.2})\n",
    "ax1.legend(loc=9,labelcolor='blue')\n",
    "plt.ylabel(\"Actual Produced Energy in MW (daily)\",fontsize=12) \n",
    "plt.xlabel(\"Date\",fontsize=12) \n",
    "ax1.set_xlim(df.iloc[0,0], df.iloc[-1,0])\n",
    "ax2 = ax1.twinx()\n",
    "plt.title('Difference of Slopes in Trends for Capacity and Produced Energy',fontsize=15)\n",
    "df.plot(x='date',y='Bruttoleistung_kumulativ',ax=ax2,color='black',label='Solar Panels Cumulative Sum',fontsize=10,lw=3) \n",
    "ax2.ticklabel_format(useOffset=False, style='plain')\n",
    "xticks = ax1.get_xticks()\n",
    "labels = [pd.Timestamp.fromordinal(int(label)).date() for label in xticks]\n",
    "ax1.set_xticks(xticks)\n",
    "ax1.xaxis.set_tick_params(labelrotation=-45)\n",
    "ax1.set_xticklabels(labels,fontsize=10)\n",
    "plt.ylabel(\"Cumulative Sum of Solar Panels in MWp\",fontsize=12) \n",
    "df.loc[:,'date']=df.loc[:,'date'].map(pd.Timestamp.fromordinal) #converting date back to timestamp from ordinal\n",
    "df.loc[:,'Bruttoleistung_kumulativ'] = df.loc[:,'Bruttoleistung_kumulativ']*1000\n",
    "ax2.annotate(xy=(736750, 22700), text='_',fontsize=40,color='blue',xytext=(736900, 22700))\n",
    "fig.tight_layout()\n",
    "plt.show()"
   ]
  },
  {
   "cell_type": "code",
   "execution_count": null,
   "id": "8f059be2-04a4-4b13-afcb-567b05d0032c",
   "metadata": {},
   "outputs": [],
   "source": [
    "# example overview of columns\n",
    "df.loc[:,['date','05404_SD_STRAHL', '05404_FD_STRAHL', '05404_FG_STRAHL', 'Act_in_MW','Bruttoleistung','Bruttoleistung_kumulativ']]"
   ]
  }
 ],
 "metadata": {
  "kernelspec": {
   "display_name": "Python 3 (ipykernel)",
   "language": "python",
   "name": "python3"
  },
  "language_info": {
   "codemirror_mode": {
    "name": "ipython",
    "version": 3
   },
   "file_extension": ".py",
   "mimetype": "text/x-python",
   "name": "python",
   "nbconvert_exporter": "python",
   "pygments_lexer": "ipython3",
   "version": "3.11.7"
  }
 },
 "nbformat": 4,
 "nbformat_minor": 5
}
