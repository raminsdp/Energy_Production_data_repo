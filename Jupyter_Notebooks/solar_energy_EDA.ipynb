{
 "cells": [
  {
   "cell_type": "code",
   "execution_count": null,
   "id": "38ba44bc-e5af-452d-bb08-a3f6cefecb40",
   "metadata": {},
   "outputs": [],
   "source": [
    "# EDA of raw dataframe\n",
    "import matplotlib.pyplot as plt\n",
    "import seaborn as sns\n",
    "import pandas as pd\n",
    "import numpy as np\n",
    "\n",
    "df_raw = pd.read_csv('../Dataset/preprocessed_data/df_final_raw_2015_2023.csv',index_col=0,parse_dates=['date'])\n",
    "df_raw.info()\n",
    "df_raw.head()"
   ]
  },
  {
   "cell_type": "code",
   "execution_count": null,
   "id": "c8a66088-0be6-438c-9e2f-12a255ebe5fa",
   "metadata": {},
   "outputs": [],
   "source": [
    "df_raw.describe()"
   ]
  },
  {
   "cell_type": "code",
   "execution_count": null,
   "id": "6c5efc95-7300-46ed-8dba-7f0addfc268a",
   "metadata": {},
   "outputs": [],
   "source": [
    "df_raw.plot(x='date',y='03668_FD_STRAHL',figsize=(10,5)) #example of stations-file for -999 values"
   ]
  },
  {
   "cell_type": "code",
   "execution_count": null,
   "id": "743a3aa2-b5f9-489e-aa41-c57abb0ce305",
   "metadata": {},
   "outputs": [],
   "source": [
    "df_raw.loc[:,'05792_FD_STRAHL'].plot(kind='hist',figsize=(10,5),bins=100)\n",
    "# values to be imputed: -999, 0 , since no solar radiation at all seems physically not plausible"
   ]
  },
  {
   "cell_type": "code",
   "execution_count": null,
   "id": "10eb10fa-7a5a-4450-a3a2-edbc5c540027",
   "metadata": {},
   "outputs": [],
   "source": [
    "df_raw.plot(x='date',y='03668_SD_STRAHL',figsize=(10,5))"
   ]
  },
  {
   "cell_type": "code",
   "execution_count": null,
   "id": "d5c9408e-4df0-40d4-a75d-bd13b86a74f4",
   "metadata": {},
   "outputs": [],
   "source": [
    "df_raw.loc[:,'03668_SD_STRAHL'].plot(kind='hist',figsize=(10,5),bins=100)\n",
    "# values to be imputed: -999"
   ]
  },
  {
   "cell_type": "code",
   "execution_count": null,
   "id": "82410d33-3060-44ea-9ff8-9f8b594d55ed",
   "metadata": {},
   "outputs": [],
   "source": [
    "df_raw.plot(x='date',y='Act_in_MW',figsize=(10,5)) "
   ]
  },
  {
   "cell_type": "code",
   "execution_count": null,
   "id": "505c14b0-c24b-4e38-9025-321bae3a1dc7",
   "metadata": {},
   "outputs": [],
   "source": [
    "df_raw.plot(x='date',y='Bruttoleistung',figsize=(10,5)) "
   ]
  },
  {
   "cell_type": "code",
   "execution_count": null,
   "id": "88661eae-9501-4dc5-9755-2353d6841115",
   "metadata": {},
   "outputs": [],
   "source": [
    "df = pd.read_csv('../CSV/df_final_raw_2015_2023.csv',index_col=0,parse_dates=['date'])\n",
    "\n",
    "df = df.drop('Prog_in_MW',axis=1) # similar to target column, high danger of data leakage\n",
    "\n",
    "cols_sd =[col for col in df.columns if 'SD' in col]\n",
    "for col in cols_sd:\n",
    "    # setting values < 0 (i.a. -999) to NaN\n",
    "    df.loc[(df.loc[:,col] < 0),col] = pd.NA\n",
    "\n",
    "cols_fd_fg = [col for col in df.columns if ('FD' in col)|('FG' in col)]\n",
    "for col in cols_fd_fg:\n",
    "    # setting values < 1 (-999 and 0) to NaN\n",
    "    df.loc[(df.loc[:,col] < 1),col] = pd.NA\n",
    "\n",
    "df.info()\n",
    "display(df.head())\n"
   ]
  },
  {
   "cell_type": "code",
   "execution_count": null,
   "id": "6e008d2d-3217-468d-be8c-127078c1a3b8",
   "metadata": {},
   "outputs": [],
   "source": [
    "cols_fg =[col for col in df.columns if 'FG' in col]\n",
    "display(df.loc[(df['date'].dt.day==1) & (df['date'].dt.month==1),cols_fg])\n",
    "print(df.loc[(df['date'].dt.day==1) & (df['date'].dt.month==1),'03668_FG_STRAHL'].median())\n",
    "print(df.loc[(df.index==365) & (df['date'].dt.day==1) & (df['date'].dt.month==1),cols_fg].sum().median())\n",
    "((df.loc[(df['date'].dt.day==1) & (df['date'].dt.month==1),'03668_FG_STRAHL'].median())+(df.loc[(df.index==365) & (df['date'].dt.day==1) & (df['date'].dt.month==1),cols_fg].sum().median()))/2"
   ]
  },
  {
   "cell_type": "code",
   "execution_count": null,
   "id": "cb7c5386-1aa9-491c-a65d-71b8fc5c0eff",
   "metadata": {},
   "outputs": [],
   "source": [
    "fig,ax=plt.subplots(figsize=(15,15))\n",
    "sns.heatmap(df.corr(),cmap=\"coolwarm\",annot=True,ax=ax)\n",
    "plt.xticks(rotation=-45)  # Rotate x-axis labels for readability\n",
    "\n",
    "plt.tight_layout()  # Adjust spacing for readability\n",
    "plt.show()"
   ]
  },
  {
   "cell_type": "code",
   "execution_count": null,
   "id": "726c36e0-00e0-41c5-a1cf-f885865a36be",
   "metadata": {},
   "outputs": [],
   "source": [
    "display(df.plot(x='date',y='05792_FG_STRAHL',figsize=(10,5))) #with NaNs\n",
    "\n",
    "# imputing implausible values\n",
    "r, c = np.where(df.iloc[:,:-3].isna())\n",
    "for i in range(len(r)):\n",
    "    # getting all SD, FG or FD columns if applicable (identical physical measurements in Bavaria)\n",
    "    cols_na = [col for col in df.columns if col.endswith(str(df.columns[c[i]])[5:])]\n",
    "\n",
    "    # getting the median of specific day from corresponding columns\n",
    "    med_row = df.loc[(df.index==r[i]) & (df['date'].dt.day==(df.iloc[r[i],0].day)) & (df['date'].dt.month==(df.iloc[r[i],0].month)),cols_na].sum().median()\n",
    "\n",
    "    # getting the median of NaN column for specific day of the year\n",
    "    med_col = df.loc[(df['date'].dt.day==(df.iloc[r[i],0].day)) & (df['date'].dt.month==(df.iloc[r[i],0].month)),df.columns[c[i]]].median()\n",
    "    \n",
    "    # calculating mean of both medians\n",
    "    mean_v = np.nanmean(np.array([med_col,med_row]))\n",
    "\n",
    "    # imputing\n",
    "    df.iloc[r[i],c[i]] = mean_v\n",
    "    \n",
    "display(df.plot(x='date',y='05792_FG_STRAHL',figsize=(10,5))) #with imputed values \n",
    "df.isna().sum()"
   ]
  },
  {
   "cell_type": "code",
   "execution_count": null,
   "id": "b397745f-19f8-44cd-bd3d-aabaff99110c",
   "metadata": {},
   "outputs": [],
   "source": [
    "# manually gathered from http://www.marktstammdatenregister.de/MaStR/Einheit/Einheiten/OeffentlicheEinheitenuebersicht?filter=Inbetriebnahmedatum%20der%20Einheit~lt~%2701.01.2015%27~and~Energietr%C3%A4ger~eq~%272495%27~and~Bundesland~eq~%271403%27\n",
    "# brutto vor 2015: 10.941.816 kW\n",
    "# netto vor 2015: 10.135.888 kW\n",
    "\n",
    "# creating new features for cumulative area of solarmodules for each day\n",
    "df.loc[:,'Bruttoleistung_kumulativ'] = df.loc[:,'Bruttoleistung'].cumsum()+10941816\n",
    "df.loc[:,'Nettoleistung_kumulativ'] = df.loc[:,'Nettoleistung'].cumsum()+10135888\n",
    "\n",
    "# brutto vor 2024: 22.454.441 kW\n",
    "# netto vor 2024: 20.404.484 kW\n",
    "print('Difference in Brutto MW of extracted data and direct information from website:',22454441-round(df.iloc[-1,-2]),'(',round((22454441-round(df.iloc[-1,-2]))/22454441,3),'%)')\n",
    "print('Difference in Netto MW of extracted data and direct information from website:',20404484-round(df.iloc[-1,-1]),'(',round((20404484-round(df.iloc[-1,-1]))/20404484,3),'%)')\n",
    "\n",
    "# development of area of solarmodules from 2015-2023\n",
    "df.plot(x='date',y='Bruttoleistung_kumulativ',figsize=(10,5)) \n",
    "\n",
    "df.to_csv('../Dataset/preprocessed_data/df_solar_energy_2015_2023.csv')"
   ]
  },
  {
   "cell_type": "code",
   "execution_count": null,
   "id": "ff0bef18-78ba-4e6d-bee6-0f269b446d54",
   "metadata": {},
   "outputs": [],
   "source": [
    "df_raw.plot(x='date',y='Act_in_MW',figsize=(10,5)) "
   ]
  },
  {
   "cell_type": "code",
   "execution_count": null,
   "id": "c5e677e1-8ddd-47b3-a514-3890288f1b1e",
   "metadata": {},
   "outputs": [],
   "source": [
    "summer = (df['date'].dt.month <= 8) & (df['date'].dt.month >= 6)\n",
    "df.loc[:,'date']=df.loc[:,'date'].map(pd.Timestamp.toordinal)\n",
    "fig, ax1 = plt.subplots(figsize=(10,5))\n",
    "df_s = df.loc[summer,:]\n",
    "sns.regplot(data=df_s, x='date', y='Act_in_MW', ax=ax1, color='magenta', scatter_kws={'s': 2})\n",
    "df.plot.scatter(x='date',y='Act_in_MW',ax=ax1,alpha=0.2)\n",
    "ax1.set_xlim(df.iloc[0,0], df.iloc[-1,0])\n",
    "ax2 = ax1.twinx()\n",
    "df.plot(x='date',y='Bruttoleistung_kumulativ',ax=ax2,color='black') \n",
    "\n",
    "xticks = ax1.get_xticks()\n",
    "\n",
    "labels = [pd.Timestamp.fromordinal(int(label)).date() for label in xticks]\n",
    "ax1.set_xticks(xticks)\n",
    "ax1.xaxis.set_tick_params(labelrotation=45)\n",
    "ax1.set_xticklabels(labels)\n",
    "\n",
    "fig.tight_layout() \n",
    "plt.show()"
   ]
  }
 ],
 "metadata": {
  "kernelspec": {
   "display_name": "Python 3 (ipykernel)",
   "language": "python",
   "name": "python3"
  },
  "language_info": {
   "codemirror_mode": {
    "name": "ipython",
    "version": 3
   },
   "file_extension": ".py",
   "mimetype": "text/x-python",
   "name": "python",
   "nbconvert_exporter": "python",
   "pygments_lexer": "ipython3",
   "version": "3.11.7"
  }
 },
 "nbformat": 4,
 "nbformat_minor": 5
}
